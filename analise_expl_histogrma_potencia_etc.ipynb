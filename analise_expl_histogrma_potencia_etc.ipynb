{
  "nbformat": 4,
  "nbformat_minor": 0,
  "metadata": {
    "colab": {
      "provenance": [],
      "authorship_tag": "ABX9TyNB92H+/aqHNZBhx6HGI2Ts",
      "include_colab_link": true
    },
    "kernelspec": {
      "name": "python3",
      "display_name": "Python 3"
    },
    "language_info": {
      "name": "python"
    }
  },
  "cells": [
    {
      "cell_type": "markdown",
      "metadata": {
        "id": "view-in-github",
        "colab_type": "text"
      },
      "source": [
        "<a href=\"https://colab.research.google.com/github/leticiaholsback/Aprendizado/blob/main/analise_expl_histogrma_potencia_etc.ipynb\" target=\"_parent\"><img src=\"https://colab.research.google.com/assets/colab-badge.svg\" alt=\"Open In Colab\"/></a>"
      ]
    },
    {
      "cell_type": "code",
      "execution_count": 1,
      "metadata": {
        "id": "lRhPO-aX-Fqw"
      },
      "outputs": [],
      "source": [
        "import pandas as pd  # biblioteca com ferramentas para análise de dados/dataframes\n",
        "import numpy as np  # biblioteca com operações matemáticas"
      ]
    },
    {
      "cell_type": "code",
      "source": [
        "df1 = pd.read_csv(\"https://raw.githubusercontent.com/dayanebravo/AED/main/pes_2012.csv\")  # ler dados no formato CSV\n",
        "df1.head()  #  exibe as primeiras linhas da tabela"
      ],
      "metadata": {
        "colab": {
          "base_uri": "https://localhost:8080/",
          "height": 206
        },
        "id": "cmFW_Hsg-a2O",
        "outputId": "18bdc214-7365-4b11-bff9-ce2e38138ed9"
      },
      "execution_count": 3,
      "outputs": [
        {
          "output_type": "execute_result",
          "data": {
            "text/plain": [
              "   V0101        UF      V0302  V8005   V0404            V4803 V4718 V4720  \\\n",
              "0   2012  Rondônia  Masculino     48  Branca  15 anos ou mais  3000  3000   \n",
              "1   2012  Rondônia   Feminino     48  Branca  15 anos ou mais  3000  3000   \n",
              "2   2012  Rondônia   Feminino     23  Branca  15 anos ou mais  1100  1100   \n",
              "3   2012  Rondônia   Feminino     21  Branca          14 anos  1100  1100   \n",
              "4   2012  Rondônia   Feminino     54  Branca  15 anos ou mais   NaN   460   \n",
              "\n",
              "   V4729  \n",
              "0    232  \n",
              "1    232  \n",
              "2    232  \n",
              "3    232  \n",
              "4    232  "
            ],
            "text/html": [
              "\n",
              "  <div id=\"df-2900c52c-ef8d-49fe-acb5-e4902d127312\" class=\"colab-df-container\">\n",
              "    <div>\n",
              "<style scoped>\n",
              "    .dataframe tbody tr th:only-of-type {\n",
              "        vertical-align: middle;\n",
              "    }\n",
              "\n",
              "    .dataframe tbody tr th {\n",
              "        vertical-align: top;\n",
              "    }\n",
              "\n",
              "    .dataframe thead th {\n",
              "        text-align: right;\n",
              "    }\n",
              "</style>\n",
              "<table border=\"1\" class=\"dataframe\">\n",
              "  <thead>\n",
              "    <tr style=\"text-align: right;\">\n",
              "      <th></th>\n",
              "      <th>V0101</th>\n",
              "      <th>UF</th>\n",
              "      <th>V0302</th>\n",
              "      <th>V8005</th>\n",
              "      <th>V0404</th>\n",
              "      <th>V4803</th>\n",
              "      <th>V4718</th>\n",
              "      <th>V4720</th>\n",
              "      <th>V4729</th>\n",
              "    </tr>\n",
              "  </thead>\n",
              "  <tbody>\n",
              "    <tr>\n",
              "      <th>0</th>\n",
              "      <td>2012</td>\n",
              "      <td>Rondônia</td>\n",
              "      <td>Masculino</td>\n",
              "      <td>48</td>\n",
              "      <td>Branca</td>\n",
              "      <td>15 anos ou mais</td>\n",
              "      <td>3000</td>\n",
              "      <td>3000</td>\n",
              "      <td>232</td>\n",
              "    </tr>\n",
              "    <tr>\n",
              "      <th>1</th>\n",
              "      <td>2012</td>\n",
              "      <td>Rondônia</td>\n",
              "      <td>Feminino</td>\n",
              "      <td>48</td>\n",
              "      <td>Branca</td>\n",
              "      <td>15 anos ou mais</td>\n",
              "      <td>3000</td>\n",
              "      <td>3000</td>\n",
              "      <td>232</td>\n",
              "    </tr>\n",
              "    <tr>\n",
              "      <th>2</th>\n",
              "      <td>2012</td>\n",
              "      <td>Rondônia</td>\n",
              "      <td>Feminino</td>\n",
              "      <td>23</td>\n",
              "      <td>Branca</td>\n",
              "      <td>15 anos ou mais</td>\n",
              "      <td>1100</td>\n",
              "      <td>1100</td>\n",
              "      <td>232</td>\n",
              "    </tr>\n",
              "    <tr>\n",
              "      <th>3</th>\n",
              "      <td>2012</td>\n",
              "      <td>Rondônia</td>\n",
              "      <td>Feminino</td>\n",
              "      <td>21</td>\n",
              "      <td>Branca</td>\n",
              "      <td>14 anos</td>\n",
              "      <td>1100</td>\n",
              "      <td>1100</td>\n",
              "      <td>232</td>\n",
              "    </tr>\n",
              "    <tr>\n",
              "      <th>4</th>\n",
              "      <td>2012</td>\n",
              "      <td>Rondônia</td>\n",
              "      <td>Feminino</td>\n",
              "      <td>54</td>\n",
              "      <td>Branca</td>\n",
              "      <td>15 anos ou mais</td>\n",
              "      <td>NaN</td>\n",
              "      <td>460</td>\n",
              "      <td>232</td>\n",
              "    </tr>\n",
              "  </tbody>\n",
              "</table>\n",
              "</div>\n",
              "    <div class=\"colab-df-buttons\">\n",
              "\n",
              "  <div class=\"colab-df-container\">\n",
              "    <button class=\"colab-df-convert\" onclick=\"convertToInteractive('df-2900c52c-ef8d-49fe-acb5-e4902d127312')\"\n",
              "            title=\"Convert this dataframe to an interactive table.\"\n",
              "            style=\"display:none;\">\n",
              "\n",
              "  <svg xmlns=\"http://www.w3.org/2000/svg\" height=\"24px\" viewBox=\"0 -960 960 960\">\n",
              "    <path d=\"M120-120v-720h720v720H120Zm60-500h600v-160H180v160Zm220 220h160v-160H400v160Zm0 220h160v-160H400v160ZM180-400h160v-160H180v160Zm440 0h160v-160H620v160ZM180-180h160v-160H180v160Zm440 0h160v-160H620v160Z\"/>\n",
              "  </svg>\n",
              "    </button>\n",
              "\n",
              "  <style>\n",
              "    .colab-df-container {\n",
              "      display:flex;\n",
              "      gap: 12px;\n",
              "    }\n",
              "\n",
              "    .colab-df-convert {\n",
              "      background-color: #E8F0FE;\n",
              "      border: none;\n",
              "      border-radius: 50%;\n",
              "      cursor: pointer;\n",
              "      display: none;\n",
              "      fill: #1967D2;\n",
              "      height: 32px;\n",
              "      padding: 0 0 0 0;\n",
              "      width: 32px;\n",
              "    }\n",
              "\n",
              "    .colab-df-convert:hover {\n",
              "      background-color: #E2EBFA;\n",
              "      box-shadow: 0px 1px 2px rgba(60, 64, 67, 0.3), 0px 1px 3px 1px rgba(60, 64, 67, 0.15);\n",
              "      fill: #174EA6;\n",
              "    }\n",
              "\n",
              "    .colab-df-buttons div {\n",
              "      margin-bottom: 4px;\n",
              "    }\n",
              "\n",
              "    [theme=dark] .colab-df-convert {\n",
              "      background-color: #3B4455;\n",
              "      fill: #D2E3FC;\n",
              "    }\n",
              "\n",
              "    [theme=dark] .colab-df-convert:hover {\n",
              "      background-color: #434B5C;\n",
              "      box-shadow: 0px 1px 3px 1px rgba(0, 0, 0, 0.15);\n",
              "      filter: drop-shadow(0px 1px 2px rgba(0, 0, 0, 0.3));\n",
              "      fill: #FFFFFF;\n",
              "    }\n",
              "  </style>\n",
              "\n",
              "    <script>\n",
              "      const buttonEl =\n",
              "        document.querySelector('#df-2900c52c-ef8d-49fe-acb5-e4902d127312 button.colab-df-convert');\n",
              "      buttonEl.style.display =\n",
              "        google.colab.kernel.accessAllowed ? 'block' : 'none';\n",
              "\n",
              "      async function convertToInteractive(key) {\n",
              "        const element = document.querySelector('#df-2900c52c-ef8d-49fe-acb5-e4902d127312');\n",
              "        const dataTable =\n",
              "          await google.colab.kernel.invokeFunction('convertToInteractive',\n",
              "                                                    [key], {});\n",
              "        if (!dataTable) return;\n",
              "\n",
              "        const docLinkHtml = 'Like what you see? Visit the ' +\n",
              "          '<a target=\"_blank\" href=https://colab.research.google.com/notebooks/data_table.ipynb>data table notebook</a>'\n",
              "          + ' to learn more about interactive tables.';\n",
              "        element.innerHTML = '';\n",
              "        dataTable['output_type'] = 'display_data';\n",
              "        await google.colab.output.renderOutput(dataTable, element);\n",
              "        const docLink = document.createElement('div');\n",
              "        docLink.innerHTML = docLinkHtml;\n",
              "        element.appendChild(docLink);\n",
              "      }\n",
              "    </script>\n",
              "  </div>\n",
              "\n",
              "\n",
              "<div id=\"df-fcc6cb7f-0dde-44e6-9f3f-7d4c7238e5a2\">\n",
              "  <button class=\"colab-df-quickchart\" onclick=\"quickchart('df-fcc6cb7f-0dde-44e6-9f3f-7d4c7238e5a2')\"\n",
              "            title=\"Suggest charts.\"\n",
              "            style=\"display:none;\">\n",
              "\n",
              "<svg xmlns=\"http://www.w3.org/2000/svg\" height=\"24px\"viewBox=\"0 0 24 24\"\n",
              "     width=\"24px\">\n",
              "    <g>\n",
              "        <path d=\"M19 3H5c-1.1 0-2 .9-2 2v14c0 1.1.9 2 2 2h14c1.1 0 2-.9 2-2V5c0-1.1-.9-2-2-2zM9 17H7v-7h2v7zm4 0h-2V7h2v10zm4 0h-2v-4h2v4z\"/>\n",
              "    </g>\n",
              "</svg>\n",
              "  </button>\n",
              "\n",
              "<style>\n",
              "  .colab-df-quickchart {\n",
              "      --bg-color: #E8F0FE;\n",
              "      --fill-color: #1967D2;\n",
              "      --hover-bg-color: #E2EBFA;\n",
              "      --hover-fill-color: #174EA6;\n",
              "      --disabled-fill-color: #AAA;\n",
              "      --disabled-bg-color: #DDD;\n",
              "  }\n",
              "\n",
              "  [theme=dark] .colab-df-quickchart {\n",
              "      --bg-color: #3B4455;\n",
              "      --fill-color: #D2E3FC;\n",
              "      --hover-bg-color: #434B5C;\n",
              "      --hover-fill-color: #FFFFFF;\n",
              "      --disabled-bg-color: #3B4455;\n",
              "      --disabled-fill-color: #666;\n",
              "  }\n",
              "\n",
              "  .colab-df-quickchart {\n",
              "    background-color: var(--bg-color);\n",
              "    border: none;\n",
              "    border-radius: 50%;\n",
              "    cursor: pointer;\n",
              "    display: none;\n",
              "    fill: var(--fill-color);\n",
              "    height: 32px;\n",
              "    padding: 0;\n",
              "    width: 32px;\n",
              "  }\n",
              "\n",
              "  .colab-df-quickchart:hover {\n",
              "    background-color: var(--hover-bg-color);\n",
              "    box-shadow: 0 1px 2px rgba(60, 64, 67, 0.3), 0 1px 3px 1px rgba(60, 64, 67, 0.15);\n",
              "    fill: var(--button-hover-fill-color);\n",
              "  }\n",
              "\n",
              "  .colab-df-quickchart-complete:disabled,\n",
              "  .colab-df-quickchart-complete:disabled:hover {\n",
              "    background-color: var(--disabled-bg-color);\n",
              "    fill: var(--disabled-fill-color);\n",
              "    box-shadow: none;\n",
              "  }\n",
              "\n",
              "  .colab-df-spinner {\n",
              "    border: 2px solid var(--fill-color);\n",
              "    border-color: transparent;\n",
              "    border-bottom-color: var(--fill-color);\n",
              "    animation:\n",
              "      spin 1s steps(1) infinite;\n",
              "  }\n",
              "\n",
              "  @keyframes spin {\n",
              "    0% {\n",
              "      border-color: transparent;\n",
              "      border-bottom-color: var(--fill-color);\n",
              "      border-left-color: var(--fill-color);\n",
              "    }\n",
              "    20% {\n",
              "      border-color: transparent;\n",
              "      border-left-color: var(--fill-color);\n",
              "      border-top-color: var(--fill-color);\n",
              "    }\n",
              "    30% {\n",
              "      border-color: transparent;\n",
              "      border-left-color: var(--fill-color);\n",
              "      border-top-color: var(--fill-color);\n",
              "      border-right-color: var(--fill-color);\n",
              "    }\n",
              "    40% {\n",
              "      border-color: transparent;\n",
              "      border-right-color: var(--fill-color);\n",
              "      border-top-color: var(--fill-color);\n",
              "    }\n",
              "    60% {\n",
              "      border-color: transparent;\n",
              "      border-right-color: var(--fill-color);\n",
              "    }\n",
              "    80% {\n",
              "      border-color: transparent;\n",
              "      border-right-color: var(--fill-color);\n",
              "      border-bottom-color: var(--fill-color);\n",
              "    }\n",
              "    90% {\n",
              "      border-color: transparent;\n",
              "      border-bottom-color: var(--fill-color);\n",
              "    }\n",
              "  }\n",
              "</style>\n",
              "\n",
              "  <script>\n",
              "    async function quickchart(key) {\n",
              "      const quickchartButtonEl =\n",
              "        document.querySelector('#' + key + ' button');\n",
              "      quickchartButtonEl.disabled = true;  // To prevent multiple clicks.\n",
              "      quickchartButtonEl.classList.add('colab-df-spinner');\n",
              "      try {\n",
              "        const charts = await google.colab.kernel.invokeFunction(\n",
              "            'suggestCharts', [key], {});\n",
              "      } catch (error) {\n",
              "        console.error('Error during call to suggestCharts:', error);\n",
              "      }\n",
              "      quickchartButtonEl.classList.remove('colab-df-spinner');\n",
              "      quickchartButtonEl.classList.add('colab-df-quickchart-complete');\n",
              "    }\n",
              "    (() => {\n",
              "      let quickchartButtonEl =\n",
              "        document.querySelector('#df-fcc6cb7f-0dde-44e6-9f3f-7d4c7238e5a2 button');\n",
              "      quickchartButtonEl.style.display =\n",
              "        google.colab.kernel.accessAllowed ? 'block' : 'none';\n",
              "    })();\n",
              "  </script>\n",
              "</div>\n",
              "    </div>\n",
              "  </div>\n"
            ]
          },
          "metadata": {},
          "execution_count": 3
        }
      ]
    },
    {
      "cell_type": "code",
      "source": [
        "df1[\"V4718\"] = pd.to_numeric(df1[\"V4718\"],errors=\"coerce\")  # transformar dados da coluna em float e os erros substituir por NaN\n",
        "df1[\"V4720\"] = pd.to_numeric(df1[\"V4720\"],errors=\"coerce\")"
      ],
      "metadata": {
        "id": "q1yK9_lZ-a91"
      },
      "execution_count": 4,
      "outputs": []
    },
    {
      "cell_type": "code",
      "source": [
        "df = df1.dropna()  # criando um NOVO dataframe com as linhas inválidas removidas\n",
        "df.head()  #  exibe as primeiras linhas da tabela"
      ],
      "metadata": {
        "colab": {
          "base_uri": "https://localhost:8080/",
          "height": 206
        },
        "id": "xhWL4jPa-bGU",
        "outputId": "4da1a119-7ab6-4cf6-a76b-bfc3d2a1c856"
      },
      "execution_count": 5,
      "outputs": [
        {
          "output_type": "execute_result",
          "data": {
            "text/plain": [
              "   V0101        UF      V0302  V8005   V0404            V4803    V4718  \\\n",
              "0   2012  Rondônia  Masculino     48  Branca  15 anos ou mais   3000.0   \n",
              "1   2012  Rondônia   Feminino     48  Branca  15 anos ou mais   3000.0   \n",
              "2   2012  Rondônia   Feminino     23  Branca  15 anos ou mais   1100.0   \n",
              "3   2012  Rondônia   Feminino     21  Branca          14 anos   1100.0   \n",
              "5   2012  Rondônia  Masculino     56   Preta  15 anos ou mais  10000.0   \n",
              "\n",
              "     V4720  V4729  \n",
              "0   3000.0    232  \n",
              "1   3000.0    232  \n",
              "2   1100.0    232  \n",
              "3   1100.0    232  \n",
              "5  10000.0    232  "
            ],
            "text/html": [
              "\n",
              "  <div id=\"df-20efc038-3306-43ee-845d-350c9b34e7f8\" class=\"colab-df-container\">\n",
              "    <div>\n",
              "<style scoped>\n",
              "    .dataframe tbody tr th:only-of-type {\n",
              "        vertical-align: middle;\n",
              "    }\n",
              "\n",
              "    .dataframe tbody tr th {\n",
              "        vertical-align: top;\n",
              "    }\n",
              "\n",
              "    .dataframe thead th {\n",
              "        text-align: right;\n",
              "    }\n",
              "</style>\n",
              "<table border=\"1\" class=\"dataframe\">\n",
              "  <thead>\n",
              "    <tr style=\"text-align: right;\">\n",
              "      <th></th>\n",
              "      <th>V0101</th>\n",
              "      <th>UF</th>\n",
              "      <th>V0302</th>\n",
              "      <th>V8005</th>\n",
              "      <th>V0404</th>\n",
              "      <th>V4803</th>\n",
              "      <th>V4718</th>\n",
              "      <th>V4720</th>\n",
              "      <th>V4729</th>\n",
              "    </tr>\n",
              "  </thead>\n",
              "  <tbody>\n",
              "    <tr>\n",
              "      <th>0</th>\n",
              "      <td>2012</td>\n",
              "      <td>Rondônia</td>\n",
              "      <td>Masculino</td>\n",
              "      <td>48</td>\n",
              "      <td>Branca</td>\n",
              "      <td>15 anos ou mais</td>\n",
              "      <td>3000.0</td>\n",
              "      <td>3000.0</td>\n",
              "      <td>232</td>\n",
              "    </tr>\n",
              "    <tr>\n",
              "      <th>1</th>\n",
              "      <td>2012</td>\n",
              "      <td>Rondônia</td>\n",
              "      <td>Feminino</td>\n",
              "      <td>48</td>\n",
              "      <td>Branca</td>\n",
              "      <td>15 anos ou mais</td>\n",
              "      <td>3000.0</td>\n",
              "      <td>3000.0</td>\n",
              "      <td>232</td>\n",
              "    </tr>\n",
              "    <tr>\n",
              "      <th>2</th>\n",
              "      <td>2012</td>\n",
              "      <td>Rondônia</td>\n",
              "      <td>Feminino</td>\n",
              "      <td>23</td>\n",
              "      <td>Branca</td>\n",
              "      <td>15 anos ou mais</td>\n",
              "      <td>1100.0</td>\n",
              "      <td>1100.0</td>\n",
              "      <td>232</td>\n",
              "    </tr>\n",
              "    <tr>\n",
              "      <th>3</th>\n",
              "      <td>2012</td>\n",
              "      <td>Rondônia</td>\n",
              "      <td>Feminino</td>\n",
              "      <td>21</td>\n",
              "      <td>Branca</td>\n",
              "      <td>14 anos</td>\n",
              "      <td>1100.0</td>\n",
              "      <td>1100.0</td>\n",
              "      <td>232</td>\n",
              "    </tr>\n",
              "    <tr>\n",
              "      <th>5</th>\n",
              "      <td>2012</td>\n",
              "      <td>Rondônia</td>\n",
              "      <td>Masculino</td>\n",
              "      <td>56</td>\n",
              "      <td>Preta</td>\n",
              "      <td>15 anos ou mais</td>\n",
              "      <td>10000.0</td>\n",
              "      <td>10000.0</td>\n",
              "      <td>232</td>\n",
              "    </tr>\n",
              "  </tbody>\n",
              "</table>\n",
              "</div>\n",
              "    <div class=\"colab-df-buttons\">\n",
              "\n",
              "  <div class=\"colab-df-container\">\n",
              "    <button class=\"colab-df-convert\" onclick=\"convertToInteractive('df-20efc038-3306-43ee-845d-350c9b34e7f8')\"\n",
              "            title=\"Convert this dataframe to an interactive table.\"\n",
              "            style=\"display:none;\">\n",
              "\n",
              "  <svg xmlns=\"http://www.w3.org/2000/svg\" height=\"24px\" viewBox=\"0 -960 960 960\">\n",
              "    <path d=\"M120-120v-720h720v720H120Zm60-500h600v-160H180v160Zm220 220h160v-160H400v160Zm0 220h160v-160H400v160ZM180-400h160v-160H180v160Zm440 0h160v-160H620v160ZM180-180h160v-160H180v160Zm440 0h160v-160H620v160Z\"/>\n",
              "  </svg>\n",
              "    </button>\n",
              "\n",
              "  <style>\n",
              "    .colab-df-container {\n",
              "      display:flex;\n",
              "      gap: 12px;\n",
              "    }\n",
              "\n",
              "    .colab-df-convert {\n",
              "      background-color: #E8F0FE;\n",
              "      border: none;\n",
              "      border-radius: 50%;\n",
              "      cursor: pointer;\n",
              "      display: none;\n",
              "      fill: #1967D2;\n",
              "      height: 32px;\n",
              "      padding: 0 0 0 0;\n",
              "      width: 32px;\n",
              "    }\n",
              "\n",
              "    .colab-df-convert:hover {\n",
              "      background-color: #E2EBFA;\n",
              "      box-shadow: 0px 1px 2px rgba(60, 64, 67, 0.3), 0px 1px 3px 1px rgba(60, 64, 67, 0.15);\n",
              "      fill: #174EA6;\n",
              "    }\n",
              "\n",
              "    .colab-df-buttons div {\n",
              "      margin-bottom: 4px;\n",
              "    }\n",
              "\n",
              "    [theme=dark] .colab-df-convert {\n",
              "      background-color: #3B4455;\n",
              "      fill: #D2E3FC;\n",
              "    }\n",
              "\n",
              "    [theme=dark] .colab-df-convert:hover {\n",
              "      background-color: #434B5C;\n",
              "      box-shadow: 0px 1px 3px 1px rgba(0, 0, 0, 0.15);\n",
              "      filter: drop-shadow(0px 1px 2px rgba(0, 0, 0, 0.3));\n",
              "      fill: #FFFFFF;\n",
              "    }\n",
              "  </style>\n",
              "\n",
              "    <script>\n",
              "      const buttonEl =\n",
              "        document.querySelector('#df-20efc038-3306-43ee-845d-350c9b34e7f8 button.colab-df-convert');\n",
              "      buttonEl.style.display =\n",
              "        google.colab.kernel.accessAllowed ? 'block' : 'none';\n",
              "\n",
              "      async function convertToInteractive(key) {\n",
              "        const element = document.querySelector('#df-20efc038-3306-43ee-845d-350c9b34e7f8');\n",
              "        const dataTable =\n",
              "          await google.colab.kernel.invokeFunction('convertToInteractive',\n",
              "                                                    [key], {});\n",
              "        if (!dataTable) return;\n",
              "\n",
              "        const docLinkHtml = 'Like what you see? Visit the ' +\n",
              "          '<a target=\"_blank\" href=https://colab.research.google.com/notebooks/data_table.ipynb>data table notebook</a>'\n",
              "          + ' to learn more about interactive tables.';\n",
              "        element.innerHTML = '';\n",
              "        dataTable['output_type'] = 'display_data';\n",
              "        await google.colab.output.renderOutput(dataTable, element);\n",
              "        const docLink = document.createElement('div');\n",
              "        docLink.innerHTML = docLinkHtml;\n",
              "        element.appendChild(docLink);\n",
              "      }\n",
              "    </script>\n",
              "  </div>\n",
              "\n",
              "\n",
              "<div id=\"df-6817eed4-d57c-4006-9066-ecb3eac8c9a6\">\n",
              "  <button class=\"colab-df-quickchart\" onclick=\"quickchart('df-6817eed4-d57c-4006-9066-ecb3eac8c9a6')\"\n",
              "            title=\"Suggest charts.\"\n",
              "            style=\"display:none;\">\n",
              "\n",
              "<svg xmlns=\"http://www.w3.org/2000/svg\" height=\"24px\"viewBox=\"0 0 24 24\"\n",
              "     width=\"24px\">\n",
              "    <g>\n",
              "        <path d=\"M19 3H5c-1.1 0-2 .9-2 2v14c0 1.1.9 2 2 2h14c1.1 0 2-.9 2-2V5c0-1.1-.9-2-2-2zM9 17H7v-7h2v7zm4 0h-2V7h2v10zm4 0h-2v-4h2v4z\"/>\n",
              "    </g>\n",
              "</svg>\n",
              "  </button>\n",
              "\n",
              "<style>\n",
              "  .colab-df-quickchart {\n",
              "      --bg-color: #E8F0FE;\n",
              "      --fill-color: #1967D2;\n",
              "      --hover-bg-color: #E2EBFA;\n",
              "      --hover-fill-color: #174EA6;\n",
              "      --disabled-fill-color: #AAA;\n",
              "      --disabled-bg-color: #DDD;\n",
              "  }\n",
              "\n",
              "  [theme=dark] .colab-df-quickchart {\n",
              "      --bg-color: #3B4455;\n",
              "      --fill-color: #D2E3FC;\n",
              "      --hover-bg-color: #434B5C;\n",
              "      --hover-fill-color: #FFFFFF;\n",
              "      --disabled-bg-color: #3B4455;\n",
              "      --disabled-fill-color: #666;\n",
              "  }\n",
              "\n",
              "  .colab-df-quickchart {\n",
              "    background-color: var(--bg-color);\n",
              "    border: none;\n",
              "    border-radius: 50%;\n",
              "    cursor: pointer;\n",
              "    display: none;\n",
              "    fill: var(--fill-color);\n",
              "    height: 32px;\n",
              "    padding: 0;\n",
              "    width: 32px;\n",
              "  }\n",
              "\n",
              "  .colab-df-quickchart:hover {\n",
              "    background-color: var(--hover-bg-color);\n",
              "    box-shadow: 0 1px 2px rgba(60, 64, 67, 0.3), 0 1px 3px 1px rgba(60, 64, 67, 0.15);\n",
              "    fill: var(--button-hover-fill-color);\n",
              "  }\n",
              "\n",
              "  .colab-df-quickchart-complete:disabled,\n",
              "  .colab-df-quickchart-complete:disabled:hover {\n",
              "    background-color: var(--disabled-bg-color);\n",
              "    fill: var(--disabled-fill-color);\n",
              "    box-shadow: none;\n",
              "  }\n",
              "\n",
              "  .colab-df-spinner {\n",
              "    border: 2px solid var(--fill-color);\n",
              "    border-color: transparent;\n",
              "    border-bottom-color: var(--fill-color);\n",
              "    animation:\n",
              "      spin 1s steps(1) infinite;\n",
              "  }\n",
              "\n",
              "  @keyframes spin {\n",
              "    0% {\n",
              "      border-color: transparent;\n",
              "      border-bottom-color: var(--fill-color);\n",
              "      border-left-color: var(--fill-color);\n",
              "    }\n",
              "    20% {\n",
              "      border-color: transparent;\n",
              "      border-left-color: var(--fill-color);\n",
              "      border-top-color: var(--fill-color);\n",
              "    }\n",
              "    30% {\n",
              "      border-color: transparent;\n",
              "      border-left-color: var(--fill-color);\n",
              "      border-top-color: var(--fill-color);\n",
              "      border-right-color: var(--fill-color);\n",
              "    }\n",
              "    40% {\n",
              "      border-color: transparent;\n",
              "      border-right-color: var(--fill-color);\n",
              "      border-top-color: var(--fill-color);\n",
              "    }\n",
              "    60% {\n",
              "      border-color: transparent;\n",
              "      border-right-color: var(--fill-color);\n",
              "    }\n",
              "    80% {\n",
              "      border-color: transparent;\n",
              "      border-right-color: var(--fill-color);\n",
              "      border-bottom-color: var(--fill-color);\n",
              "    }\n",
              "    90% {\n",
              "      border-color: transparent;\n",
              "      border-bottom-color: var(--fill-color);\n",
              "    }\n",
              "  }\n",
              "</style>\n",
              "\n",
              "  <script>\n",
              "    async function quickchart(key) {\n",
              "      const quickchartButtonEl =\n",
              "        document.querySelector('#' + key + ' button');\n",
              "      quickchartButtonEl.disabled = true;  // To prevent multiple clicks.\n",
              "      quickchartButtonEl.classList.add('colab-df-spinner');\n",
              "      try {\n",
              "        const charts = await google.colab.kernel.invokeFunction(\n",
              "            'suggestCharts', [key], {});\n",
              "      } catch (error) {\n",
              "        console.error('Error during call to suggestCharts:', error);\n",
              "      }\n",
              "      quickchartButtonEl.classList.remove('colab-df-spinner');\n",
              "      quickchartButtonEl.classList.add('colab-df-quickchart-complete');\n",
              "    }\n",
              "    (() => {\n",
              "      let quickchartButtonEl =\n",
              "        document.querySelector('#df-6817eed4-d57c-4006-9066-ecb3eac8c9a6 button');\n",
              "      quickchartButtonEl.style.display =\n",
              "        google.colab.kernel.accessAllowed ? 'block' : 'none';\n",
              "    })();\n",
              "  </script>\n",
              "</div>\n",
              "    </div>\n",
              "  </div>\n"
            ]
          },
          "metadata": {},
          "execution_count": 5
        }
      ]
    },
    {
      "cell_type": "code",
      "source": [
        "import matplotlib.pyplot as plt  # biblioteca básico para gráficos\n",
        "import seaborn as sn  # biblioteca auxiliar para gráficos"
      ],
      "metadata": {
        "id": "owcfelSG-bO2"
      },
      "execution_count": 6,
      "outputs": []
    },
    {
      "cell_type": "code",
      "source": [
        "sn.set(style=\"ticks\",palette=\"light:m_r\")  # definir estilo de gráfico e cor\n"
      ],
      "metadata": {
        "id": "gt8zMS_I-bYC"
      },
      "execution_count": 7,
      "outputs": []
    },
    {
      "cell_type": "markdown",
      "source": [
        "**Regra do logaritmo:**\n",
        "\n",
        "Bloco com recuo\n",
        "\n",
        "\n",
        "> ![image.png](data:image/png;base64,iVBORw0KGgoAAAANSUhEUgAAAI8AAAAZCAYAAAAIXH3NAAAD60lEQVRoBe2Xi00rMRBF0wI1pAV6oARqoIV0kA7ogAqogAbSAB2kh6CDdKJ5o/VnTT6gZ0uRF69n5s6d6/GyOc0xGRhkYDNoN80mA6cpnimCYQameIapm4ZTPFMDwwxM8QxTd13Dt7e302az+f59fHxcN9ig96Z4np6ezknw7Nhut+f1h4cHl28yH4/H08vLy2m/398kHkHe399Pz8/P55zJvxX/8/Pze0/kCh+Hw6ELtwL6s+KhUJwACODZYWKQAUm3GhQMsYKpVbwSJg7BGtvX19d/4ileMMBDaYAT3uQHEbhWsonr7CfGnxUPyeRCQd7j42OVuEjCpZ53u905Zsa0JsZa8SA0RBCHha2JcElcdvLoq/RsjD8rnpwALRfh9LbeEjE/Xb+leJaw2o3sKkt78hqHDhFy5faMzL02rFMDOOC31P3BRyz3xFk/zGDiUOqHNbopHZIf13VpNL95OFk4IQjPnBye7z1Itnbqa/jWdp7oi0NDXArT2xHgiyJQcArVy9+SeFxDHAzEi1/w6JdY8OOVqg2x82CN9+Skjb7xC1el0RSPbRbHIwUTuPa1uQY0JzCCRR+j4olc9H74xvwp8BrBa8vsIG7myX2KhT3EigMbxFAa4KJJRHzY5FjRvikeiuRpAVAGFZ3d8rlXPJ6ommh9F4mr5UKxKAR2vdc3XUEsFLdnKIoonlLecb0knpoQsPGGERt/L3Ur31fFI3jvPZQNSP/WyT3mSNba+JDYK5SSb64LMPQKQT9872DXIzr5Xyse6+T1g33uKuJxzkIxv1qtq+LxpHiXMhNkDWESAGGtX+1kmKQzvkYFcAnxgAMMazBjI6dREOaUZ7mLe0t553U7Cest4SgUrz1wKEBrn7Hxd1U8EJPvSZMn4D1HJmsNlrXiIecsEkgFQ+0/J97HwoORa4D1Hv6WxEM9ck3oYvi0SzDnPTV+2I997Ibk1fJRFI+AsgMTGj31tSR631m4XNBe+xHxQK7XAPEhlxMdRYDfiAkb+HMP3OXrwcOYRUYunn5FwZqFFgu+iRHrhM/4d4sXBA2uOMgDH+RaummK4iFxf1EoOHXdBGLQaz5DZowPDj7gY8F64rM/5tSyoUAQTCxzh9B4UvGB34gFvOzTBvscl795n8Xj4eUdhY2x8CsW3iFkiuyItsZmBlvc5/6Mm3WFy7sYWxvmonjipvncZoCiUMjYJdpW19mBmPjFwQFQaHH9J89TPD9hL9jSmTit9x52ndzJwEUXKV1BI7ineEZY+8U2dkBE4rcWa3xicHVdsjNO8fxiIYxCo+vEby2/dy4pHLBN8YxWaNpN8UwNjDMwO884d/+95RdfO+U2m8PAdwAAAABJRU5ErkJggg==)"
      ],
      "metadata": {
        "id": "Tsj-51xB-lwo"
      }
    },
    {
      "cell_type": "code",
      "source": [
        "sizes = df.V8005  # coluna analisada\n",
        "plt.figure(figsize=(8,8))  # tamanho do gráfico\n",
        "\n",
        "# cálculo da quantidade de classes\n",
        "k = int(1+3.3*np.log(len(sizes))) # fórmula\n",
        "print(k)\n",
        "\n",
        "sn.histplot(sizes, bins=k)  # quantidade de classes/intervalos - largura calculada automaticamente\n",
        "plt.ylabel('qtde pessoas')  # nome do eixo y\n",
        "plt.xlabel('idade')  # nome do eixo x\n",
        "plt.show()  # exibir gráfico"
      ],
      "metadata": {
        "colab": {
          "base_uri": "https://localhost:8080/",
          "height": 721
        },
        "id": "GcGZhmsl-bgA",
        "outputId": "09865225-30d6-46e8-be6e-f10641471ea5"
      },
      "execution_count": 8,
      "outputs": [
        {
          "output_type": "stream",
          "name": "stdout",
          "text": [
            "40\n"
          ]
        },
        {
          "output_type": "display_data",
          "data": {
            "text/plain": [
              "<Figure size 800x800 with 1 Axes>"
            ],
            "image/png": "[encoded data removed]"
          },
          "metadata": {}
        }
      ]
    },
    {
      "cell_type": "markdown",
      "source": [
        ">> **Regra da Potência:**\n",
        ">> ![image.png](data:image/png;base64,iVBORw0KGgoAAAANSUhEUgAAAEUAAAAaCAYAAADhVZELAAACBklEQVRYCe2Wfc2DMBCHsTANs4CHSUDDLMzBHOBgClCAAQzgAA998/Dml1xYgSsff5D1kqZdKde75z5YEbJ8ESi+dvJGyFAiSXA4lLZtw/v9DsxXlcOhNE0TbrdbqOv6qkzOKR+gdF2XoYhA3/ehKP4TkDWlxLiSuMtnGIbw+XzC4/EYncbxsiy/eofOAAEoZM39fh/XVwHjhlJV1QhDvQKHcRanASZ5Pp8jOM1AWhOaMoDRbXWtvXfWczcUMgRHrVAWZIz90uAcAJlTyoYehH4g874HprXlyLUbSuzSKRSiDCQcxCkyCUmNPu8CBkCAstBjdmiPc8pe1tyrcmf2yi4oiqycxhAcQdRwX69XYGwRdFBSOMpAz9xXjbPYo8Bwlt/s8zdhmtFL9myGgnFcZNMcKPY3xqgHLRnheYZe7vNEnHNAtME6HQqX0TOIxJmSkimyQ8Gy/YzAAEWQdHZu3pQpZwLBcLKCjEjtKTgZA0DwsNkryVC4wJPCXgN0jtJDNyBospTeFkEHpWNF/cjuLa2ToBAFiNs0xHibqkuXzT0DCHrJEKt77vzSPnqAKqEEKZ0UyG4oUj7t/hiwF4oc2DsDFAC2uQNcUIDOWBM3FNIS5bGxF4oMj+me7i2VrvQwSwBF9lCWXjvdUHTJL8wZSiTKGUqGEiEQ2cqZkqFECES2cqZEoPwBHrKLfM5Rlf0AAAAASUVORK5CYII=)\n",
        "\n"
      ],
      "metadata": {
        "id": "msOufdPY-5f4"
      }
    },
    {
      "cell_type": "code",
      "source": [
        "sizes = df.V8005  # coluna analisada\n",
        "plt.figure(figsize=(8,8))  # tamanho do gráfico\n",
        "\n",
        "# cálculo da quantidade de classes\n",
        "import math  # biblioteca para calcular log na base i\n",
        "# lembrando que 2^k=n é o mesmo que log_2(n)=k\n",
        "c = math.log(len(sizes),2) # fórmula do log na base 2\n",
        "k = int(c+1) # k precisa ser inteiro\n",
        "print(k)\n",
        "\n",
        "sn.histplot(sizes, bins=k)  # quantidade de classes/intervalos - largura calculada automaticamente\n",
        "plt.ylabel('qtde pessoas')  # nome do eixo y\n",
        "plt.xlabel('idade')  # nome do eixo x\n",
        "plt.show()  # exibir gráfico\n"
      ],
      "metadata": {
        "colab": {
          "base_uri": "https://localhost:8080/",
          "height": 721
        },
        "id": "jE109qjE-boy",
        "outputId": "5b51b2c8-2681-4494-9540-7dc9f5e7b53a"
      },
      "execution_count": 9,
      "outputs": [
        {
          "output_type": "stream",
          "name": "stdout",
          "text": [
            "18\n"
          ]
        },
        {
          "output_type": "display_data",
          "data": {
            "text/plain": [
              "<Figure size 800x800 with 1 Axes>"
            ],
            "image/png": "[encoded data removed]"
          },
          "metadata": {}
        }
      ]
    },
    {
      "cell_type": "markdown",
      "source": [
        "Histograma"
      ],
      "metadata": {
        "id": "GAf3lkvW_eTl"
      }
    },
    {
      "cell_type": "code",
      "source": [
        "sizes = df.V8005  # coluna analisada\n",
        "\n",
        "sn.histplot(sizes, bins=15, cumulative=False)  # quantidade de intervalos - não cumulativo\n",
        "\n",
        "plt.ylabel('qtde pessoas')  # nome do eixo y\n",
        "plt.xlabel('idade')  # nome do eixo x\n",
        "plt.show()  # exibir gráfico"
      ],
      "metadata": {
        "colab": {
          "base_uri": "https://localhost:8080/",
          "height": 458
        },
        "id": "KbuxJuaV-byO",
        "outputId": "3246118d-f3e6-45ab-9b63-d9aceaa7b3ae"
      },
      "execution_count": 10,
      "outputs": [
        {
          "output_type": "display_data",
          "data": {
            "text/plain": [
              "<Figure size 640x480 with 1 Axes>"
            ],
            "image/png": "[encoded data removed]"
          },
          "metadata": {}
        }
      ]
    },
    {
      "cell_type": "markdown",
      "source": [
        "Diatribuiçao"
      ],
      "metadata": {
        "id": "LjL_DQCJ_iQH"
      }
    },
    {
      "cell_type": "code",
      "source": [
        "sizes = df.V8005  # coluna analisada\n",
        "\n",
        "sn.displot(sizes, bins=15, cumulative=False)  # quantidade de intervalos - não cumulativo\n",
        "#sn.distplot(sizes)\n",
        "\n",
        "plt.ylabel('qtde pessoas')  # nome do eixo y\n",
        "plt.xlabel('idade')  # nome do eixo x\n",
        "\n",
        "#plt.show()  # exibir gráfico"
      ],
      "metadata": {
        "colab": {
          "base_uri": "https://localhost:8080/",
          "height": 518
        },
        "id": "uQ4VUdXi-b7o",
        "outputId": "41da9a8f-274a-4b3c-f2cc-3fd72f163ddd"
      },
      "execution_count": 11,
      "outputs": [
        {
          "output_type": "execute_result",
          "data": {
            "text/plain": [
              "Text(0.5, 12.44444444444443, 'idade')"
            ]
          },
          "metadata": {},
          "execution_count": 11
        },
        {
          "output_type": "display_data",
          "data": {
            "text/plain": [
              "<Figure size 500x500 with 1 Axes>"
            ],
            "image/png": "[encoded data removed]"
          },
          "metadata": {}
        }
      ]
    },
    {
      "cell_type": "markdown",
      "source": [
        "Densidade"
      ],
      "metadata": {
        "id": "POPITjB4_ntB"
      }
    },
    {
      "cell_type": "code",
      "source": [
        "sizes = df.V8005  # coluna analisada\n",
        "\n",
        "sn.kdeplot(data=sizes, fill=True)  # tipo do gráfico com preenchimento de cor\n",
        "\n",
        "plt.ylabel('freq. pessoas')  # nome do eixo y\n",
        "plt.xlabel('idade')  # nome do eixo x\n",
        "plt.show()  # exibir gráfico"
      ],
      "metadata": {
        "colab": {
          "base_uri": "https://localhost:8080/",
          "height": 458
        },
        "id": "fZWYUUqU-cDj",
        "outputId": "b4502a24-5b62-4349-c6ed-f5b75622a3fc"
      },
      "execution_count": 12,
      "outputs": [
        {
          "output_type": "display_data",
          "data": {
            "text/plain": [
              "<Figure size 640x480 with 1 Axes>"
            ],
            "image/png": "[encoded data removed]"
          },
          "metadata": {}
        }
      ]
    },
    {
      "cell_type": "markdown",
      "source": [
        "Polígono de Frequencia"
      ],
      "metadata": {
        "id": "pJj6HTW1_rfc"
      }
    },
    {
      "cell_type": "code",
      "source": [
        "sizes = df.V0404.value_counts()  # coluna analisada\n",
        "\n",
        "sn.relplot(data=sizes, kind=\"line\", height=5)  # tipo do gráfico e altura\n",
        "\n",
        "plt.ylabel('qtde pessoas')  # nome do eixo y\n",
        "plt.xlabel('caract. física')  # nome do eixo x\n",
        "plt.show()  # exibir gráfico"
      ],
      "metadata": {
        "colab": {
          "base_uri": "https://localhost:8080/",
          "height": 500
        },
        "id": "u1ihSYpX-cL8",
        "outputId": "0f404cdb-d2fc-4d6e-f30f-7bad51ae2c82"
      },
      "execution_count": 13,
      "outputs": [
        {
          "output_type": "display_data",
          "data": {
            "text/plain": [
              "<Figure size 500x500 with 1 Axes>"
            ],
            "image/png": "[encoded data removed]"
          },
          "metadata": {}
        }
      ]
    },
    {
      "cell_type": "markdown",
      "source": [
        "Grqafico de Dispensão"
      ],
      "metadata": {
        "id": "TyZ5go5x_xZX"
      }
    },
    {
      "cell_type": "code",
      "source": [
        "plt.figure(figsize=(8,8))  # tamanho do gráfico\n",
        "\n",
        "sn.relplot(x=df.V8005, y=df.V4720, kind=\"scatter\")  # tipo do gráfico\n",
        "sn.scatterplot(x=df.V8005, y=df.V4720)  # gráfico de dispersão (eixo x, eixo y)\n",
        "\n",
        "plt.ylabel('renda')  # nome do eixo y\n",
        "plt.xlabel('idade')  # nome do eixo x\n",
        "plt.show()  # exibir gráfico"
      ],
      "metadata": {
        "colab": {
          "base_uri": "https://localhost:8080/",
          "height": 518
        },
        "id": "pD7j4weI_wNM",
        "outputId": "ec262c82-a95c-4d9a-def7-3cf91a40acb2"
      },
      "execution_count": 16,
      "outputs": [
        {
          "output_type": "display_data",
          "data": {
            "text/plain": [
              "<Figure size 800x800 with 0 Axes>"
            ]
          },
          "metadata": {}
        },
        {
          "output_type": "display_data",
          "data": {
            "text/plain": [
              "<Figure size 500x500 with 1 Axes>"
            ],
            "image/png": "[encoded data removed]"
          },
          "metadata": {}
        }
      ]
    },
    {
      "cell_type": "markdown",
      "source": [
        "*Ordenação de Dados*"
      ],
      "metadata": {
        "id": "avaom9PX_35b"
      }
    },
    {
      "cell_type": "code",
      "source": [
        "df.V0404.sort_values()  # ordem alfabética"
      ],
      "metadata": {
        "colab": {
          "base_uri": "https://localhost:8080/"
        },
        "id": "qCm7VMIv_wVK",
        "outputId": "31d555e6-fa3c-423b-dd97-8d246eec2f4e"
      },
      "execution_count": 17,
      "outputs": [
        {
          "output_type": "execute_result",
          "data": {
            "text/plain": [
              "332006    Amarela\n",
              "252291    Amarela\n",
              "252289    Amarela\n",
              "79008     Amarela\n",
              "120153    Amarela\n",
              "           ...   \n",
              "290106      Preta\n",
              "290105      Preta\n",
              "290104      Preta\n",
              "336422      Preta\n",
              "200055      Preta\n",
              "Name: V0404, Length: 168541, dtype: object"
            ]
          },
          "metadata": {},
          "execution_count": 17
        }
      ]
    },
    {
      "cell_type": "code",
      "source": [
        "df.V8005.sort_values()  # ordem numérica crescente"
      ],
      "metadata": {
        "colab": {
          "base_uri": "https://localhost:8080/"
        },
        "id": "af9x76Kx_wd6",
        "outputId": "694f81e7-72a5-4786-8fe0-c233366e4cc0"
      },
      "execution_count": 18,
      "outputs": [
        {
          "output_type": "execute_result",
          "data": {
            "text/plain": [
              "68912      10\n",
              "7652       10\n",
              "6717       10\n",
              "41537      10\n",
              "94327      10\n",
              "         ... \n",
              "40698      98\n",
              "331370     98\n",
              "167472     99\n",
              "90141     102\n",
              "210979    117\n",
              "Name: V8005, Length: 168541, dtype: int64"
            ]
          },
          "metadata": {},
          "execution_count": 18
        }
      ]
    },
    {
      "cell_type": "code",
      "source": [
        "df.V8005.sort_values(ascending=False)  # ordem numérica decrescente"
      ],
      "metadata": {
        "colab": {
          "base_uri": "https://localhost:8080/"
        },
        "id": "x2rSLfnF_wnG",
        "outputId": "eec243ce-bd05-4c21-f51c-4bf17560e095"
      },
      "execution_count": 19,
      "outputs": [
        {
          "output_type": "execute_result",
          "data": {
            "text/plain": [
              "210979    117\n",
              "90141     102\n",
              "167472     99\n",
              "40698      98\n",
              "331370     98\n",
              "         ... \n",
              "13388      10\n",
              "13380      10\n",
              "13357      10\n",
              "262594     10\n",
              "316596     10\n",
              "Name: V8005, Length: 168541, dtype: int64"
            ]
          },
          "metadata": {},
          "execution_count": 19
        }
      ]
    },
    {
      "cell_type": "code",
      "source": [
        "df.describe()"
      ],
      "metadata": {
        "colab": {
          "base_uri": "https://localhost:8080/",
          "height": 300
        },
        "id": "mQNRp7oQ_wvt",
        "outputId": "e1ba4279-2805-491a-eaf4-6c967c1d98fd"
      },
      "execution_count": 20,
      "outputs": [
        {
          "output_type": "execute_result",
          "data": {
            "text/plain": [
              "          V0101          V8005          V4718          V4720          V4729\n",
              "count  168541.0  168541.000000  168541.000000  168541.000000  168541.000000\n",
              "mean     2012.0      37.890614    1337.517684    1493.636765     544.833856\n",
              "std         0.0      13.659312    2632.904849    3120.346006     261.365117\n",
              "min      2012.0      10.000000       0.000000       0.000000     174.000000\n",
              "25%      2012.0      27.000000     620.000000     622.000000     334.000000\n",
              "50%      2012.0      37.000000     800.000000     870.000000     522.000000\n",
              "75%      2012.0      48.000000    1400.000000    1500.000000     689.000000\n",
              "max      2012.0     117.000000  350000.000000  351600.000000    1132.000000"
            ],
            "text/html": [
              "\n",
              "  <div id=\"df-16809728-19fc-45f1-80f1-2c71dec89a82\" class=\"colab-df-container\">\n",
              "    <div>\n",
              "<style scoped>\n",
              "    .dataframe tbody tr th:only-of-type {\n",
              "        vertical-align: middle;\n",
              "    }\n",
              "\n",
              "    .dataframe tbody tr th {\n",
              "        vertical-align: top;\n",
              "    }\n",
              "\n",
              "    .dataframe thead th {\n",
              "        text-align: right;\n",
              "    }\n",
              "</style>\n",
              "<table border=\"1\" class=\"dataframe\">\n",
              "  <thead>\n",
              "    <tr style=\"text-align: right;\">\n",
              "      <th></th>\n",
              "      <th>V0101</th>\n",
              "      <th>V8005</th>\n",
              "      <th>V4718</th>\n",
              "      <th>V4720</th>\n",
              "      <th>V4729</th>\n",
              "    </tr>\n",
              "  </thead>\n",
              "  <tbody>\n",
              "    <tr>\n",
              "      <th>count</th>\n",
              "      <td>168541.0</td>\n",
              "      <td>168541.000000</td>\n",
              "      <td>168541.000000</td>\n",
              "      <td>168541.000000</td>\n",
              "      <td>168541.000000</td>\n",
              "    </tr>\n",
              "    <tr>\n",
              "      <th>mean</th>\n",
              "      <td>2012.0</td>\n",
              "      <td>37.890614</td>\n",
              "      <td>1337.517684</td>\n",
              "      <td>1493.636765</td>\n",
              "      <td>544.833856</td>\n",
              "    </tr>\n",
              "    <tr>\n",
              "      <th>std</th>\n",
              "      <td>0.0</td>\n",
              "      <td>13.659312</td>\n",
              "      <td>2632.904849</td>\n",
              "      <td>3120.346006</td>\n",
              "      <td>261.365117</td>\n",
              "    </tr>\n",
              "    <tr>\n",
              "      <th>min</th>\n",
              "      <td>2012.0</td>\n",
              "      <td>10.000000</td>\n",
              "      <td>0.000000</td>\n",
              "      <td>0.000000</td>\n",
              "      <td>174.000000</td>\n",
              "    </tr>\n",
              "    <tr>\n",
              "      <th>25%</th>\n",
              "      <td>2012.0</td>\n",
              "      <td>27.000000</td>\n",
              "      <td>620.000000</td>\n",
              "      <td>622.000000</td>\n",
              "      <td>334.000000</td>\n",
              "    </tr>\n",
              "    <tr>\n",
              "      <th>50%</th>\n",
              "      <td>2012.0</td>\n",
              "      <td>37.000000</td>\n",
              "      <td>800.000000</td>\n",
              "      <td>870.000000</td>\n",
              "      <td>522.000000</td>\n",
              "    </tr>\n",
              "    <tr>\n",
              "      <th>75%</th>\n",
              "      <td>2012.0</td>\n",
              "      <td>48.000000</td>\n",
              "      <td>1400.000000</td>\n",
              "      <td>1500.000000</td>\n",
              "      <td>689.000000</td>\n",
              "    </tr>\n",
              "    <tr>\n",
              "      <th>max</th>\n",
              "      <td>2012.0</td>\n",
              "      <td>117.000000</td>\n",
              "      <td>350000.000000</td>\n",
              "      <td>351600.000000</td>\n",
              "      <td>1132.000000</td>\n",
              "    </tr>\n",
              "  </tbody>\n",
              "</table>\n",
              "</div>\n",
              "    <div class=\"colab-df-buttons\">\n",
              "\n",
              "  <div class=\"colab-df-container\">\n",
              "    <button class=\"colab-df-convert\" onclick=\"convertToInteractive('df-16809728-19fc-45f1-80f1-2c71dec89a82')\"\n",
              "            title=\"Convert this dataframe to an interactive table.\"\n",
              "            style=\"display:none;\">\n",
              "\n",
              "  <svg xmlns=\"http://www.w3.org/2000/svg\" height=\"24px\" viewBox=\"0 -960 960 960\">\n",
              "    <path d=\"M120-120v-720h720v720H120Zm60-500h600v-160H180v160Zm220 220h160v-160H400v160Zm0 220h160v-160H400v160ZM180-400h160v-160H180v160Zm440 0h160v-160H620v160ZM180-180h160v-160H180v160Zm440 0h160v-160H620v160Z\"/>\n",
              "  </svg>\n",
              "    </button>\n",
              "\n",
              "  <style>\n",
              "    .colab-df-container {\n",
              "      display:flex;\n",
              "      gap: 12px;\n",
              "    }\n",
              "\n",
              "    .colab-df-convert {\n",
              "      background-color: #E8F0FE;\n",
              "      border: none;\n",
              "      border-radius: 50%;\n",
              "      cursor: pointer;\n",
              "      display: none;\n",
              "      fill: #1967D2;\n",
              "      height: 32px;\n",
              "      padding: 0 0 0 0;\n",
              "      width: 32px;\n",
              "    }\n",
              "\n",
              "    .colab-df-convert:hover {\n",
              "      background-color: #E2EBFA;\n",
              "      box-shadow: 0px 1px 2px rgba(60, 64, 67, 0.3), 0px 1px 3px 1px rgba(60, 64, 67, 0.15);\n",
              "      fill: #174EA6;\n",
              "    }\n",
              "\n",
              "    .colab-df-buttons div {\n",
              "      margin-bottom: 4px;\n",
              "    }\n",
              "\n",
              "    [theme=dark] .colab-df-convert {\n",
              "      background-color: #3B4455;\n",
              "      fill: #D2E3FC;\n",
              "    }\n",
              "\n",
              "    [theme=dark] .colab-df-convert:hover {\n",
              "      background-color: #434B5C;\n",
              "      box-shadow: 0px 1px 3px 1px rgba(0, 0, 0, 0.15);\n",
              "      filter: drop-shadow(0px 1px 2px rgba(0, 0, 0, 0.3));\n",
              "      fill: #FFFFFF;\n",
              "    }\n",
              "  </style>\n",
              "\n",
              "    <script>\n",
              "      const buttonEl =\n",
              "        document.querySelector('#df-16809728-19fc-45f1-80f1-2c71dec89a82 button.colab-df-convert');\n",
              "      buttonEl.style.display =\n",
              "        google.colab.kernel.accessAllowed ? 'block' : 'none';\n",
              "\n",
              "      async function convertToInteractive(key) {\n",
              "        const element = document.querySelector('#df-16809728-19fc-45f1-80f1-2c71dec89a82');\n",
              "        const dataTable =\n",
              "          await google.colab.kernel.invokeFunction('convertToInteractive',\n",
              "                                                    [key], {});\n",
              "        if (!dataTable) return;\n",
              "\n",
              "        const docLinkHtml = 'Like what you see? Visit the ' +\n",
              "          '<a target=\"_blank\" href=https://colab.research.google.com/notebooks/data_table.ipynb>data table notebook</a>'\n",
              "          + ' to learn more about interactive tables.';\n",
              "        element.innerHTML = '';\n",
              "        dataTable['output_type'] = 'display_data';\n",
              "        await google.colab.output.renderOutput(dataTable, element);\n",
              "        const docLink = document.createElement('div');\n",
              "        docLink.innerHTML = docLinkHtml;\n",
              "        element.appendChild(docLink);\n",
              "      }\n",
              "    </script>\n",
              "  </div>\n",
              "\n",
              "\n",
              "<div id=\"df-2e90b179-839f-4c24-a663-7d7a1f51923a\">\n",
              "  <button class=\"colab-df-quickchart\" onclick=\"quickchart('df-2e90b179-839f-4c24-a663-7d7a1f51923a')\"\n",
              "            title=\"Suggest charts.\"\n",
              "            style=\"display:none;\">\n",
              "\n",
              "<svg xmlns=\"http://www.w3.org/2000/svg\" height=\"24px\"viewBox=\"0 0 24 24\"\n",
              "     width=\"24px\">\n",
              "    <g>\n",
              "        <path d=\"M19 3H5c-1.1 0-2 .9-2 2v14c0 1.1.9 2 2 2h14c1.1 0 2-.9 2-2V5c0-1.1-.9-2-2-2zM9 17H7v-7h2v7zm4 0h-2V7h2v10zm4 0h-2v-4h2v4z\"/>\n",
              "    </g>\n",
              "</svg>\n",
              "  </button>\n",
              "\n",
              "<style>\n",
              "  .colab-df-quickchart {\n",
              "      --bg-color: #E8F0FE;\n",
              "      --fill-color: #1967D2;\n",
              "      --hover-bg-color: #E2EBFA;\n",
              "      --hover-fill-color: #174EA6;\n",
              "      --disabled-fill-color: #AAA;\n",
              "      --disabled-bg-color: #DDD;\n",
              "  }\n",
              "\n",
              "  [theme=dark] .colab-df-quickchart {\n",
              "      --bg-color: #3B4455;\n",
              "      --fill-color: #D2E3FC;\n",
              "      --hover-bg-color: #434B5C;\n",
              "      --hover-fill-color: #FFFFFF;\n",
              "      --disabled-bg-color: #3B4455;\n",
              "      --disabled-fill-color: #666;\n",
              "  }\n",
              "\n",
              "  .colab-df-quickchart {\n",
              "    background-color: var(--bg-color);\n",
              "    border: none;\n",
              "    border-radius: 50%;\n",
              "    cursor: pointer;\n",
              "    display: none;\n",
              "    fill: var(--fill-color);\n",
              "    height: 32px;\n",
              "    padding: 0;\n",
              "    width: 32px;\n",
              "  }\n",
              "\n",
              "  .colab-df-quickchart:hover {\n",
              "    background-color: var(--hover-bg-color);\n",
              "    box-shadow: 0 1px 2px rgba(60, 64, 67, 0.3), 0 1px 3px 1px rgba(60, 64, 67, 0.15);\n",
              "    fill: var(--button-hover-fill-color);\n",
              "  }\n",
              "\n",
              "  .colab-df-quickchart-complete:disabled,\n",
              "  .colab-df-quickchart-complete:disabled:hover {\n",
              "    background-color: var(--disabled-bg-color);\n",
              "    fill: var(--disabled-fill-color);\n",
              "    box-shadow: none;\n",
              "  }\n",
              "\n",
              "  .colab-df-spinner {\n",
              "    border: 2px solid var(--fill-color);\n",
              "    border-color: transparent;\n",
              "    border-bottom-color: var(--fill-color);\n",
              "    animation:\n",
              "      spin 1s steps(1) infinite;\n",
              "  }\n",
              "\n",
              "  @keyframes spin {\n",
              "    0% {\n",
              "      border-color: transparent;\n",
              "      border-bottom-color: var(--fill-color);\n",
              "      border-left-color: var(--fill-color);\n",
              "    }\n",
              "    20% {\n",
              "      border-color: transparent;\n",
              "      border-left-color: var(--fill-color);\n",
              "      border-top-color: var(--fill-color);\n",
              "    }\n",
              "    30% {\n",
              "      border-color: transparent;\n",
              "      border-left-color: var(--fill-color);\n",
              "      border-top-color: var(--fill-color);\n",
              "      border-right-color: var(--fill-color);\n",
              "    }\n",
              "    40% {\n",
              "      border-color: transparent;\n",
              "      border-right-color: var(--fill-color);\n",
              "      border-top-color: var(--fill-color);\n",
              "    }\n",
              "    60% {\n",
              "      border-color: transparent;\n",
              "      border-right-color: var(--fill-color);\n",
              "    }\n",
              "    80% {\n",
              "      border-color: transparent;\n",
              "      border-right-color: var(--fill-color);\n",
              "      border-bottom-color: var(--fill-color);\n",
              "    }\n",
              "    90% {\n",
              "      border-color: transparent;\n",
              "      border-bottom-color: var(--fill-color);\n",
              "    }\n",
              "  }\n",
              "</style>\n",
              "\n",
              "  <script>\n",
              "    async function quickchart(key) {\n",
              "      const quickchartButtonEl =\n",
              "        document.querySelector('#' + key + ' button');\n",
              "      quickchartButtonEl.disabled = true;  // To prevent multiple clicks.\n",
              "      quickchartButtonEl.classList.add('colab-df-spinner');\n",
              "      try {\n",
              "        const charts = await google.colab.kernel.invokeFunction(\n",
              "            'suggestCharts', [key], {});\n",
              "      } catch (error) {\n",
              "        console.error('Error during call to suggestCharts:', error);\n",
              "      }\n",
              "      quickchartButtonEl.classList.remove('colab-df-spinner');\n",
              "      quickchartButtonEl.classList.add('colab-df-quickchart-complete');\n",
              "    }\n",
              "    (() => {\n",
              "      let quickchartButtonEl =\n",
              "        document.querySelector('#df-2e90b179-839f-4c24-a663-7d7a1f51923a button');\n",
              "      quickchartButtonEl.style.display =\n",
              "        google.colab.kernel.accessAllowed ? 'block' : 'none';\n",
              "    })();\n",
              "  </script>\n",
              "</div>\n",
              "    </div>\n",
              "  </div>\n"
            ]
          },
          "metadata": {},
          "execution_count": 20
        }
      ]
    }
  ]
}